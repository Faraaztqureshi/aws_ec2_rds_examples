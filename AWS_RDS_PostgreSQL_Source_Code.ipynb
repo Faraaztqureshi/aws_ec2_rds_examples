{
 "cells": [
  {
   "cell_type": "code",
   "execution_count": null,
   "metadata": {},
   "outputs": [],
   "source": [
    "# Install a pip package in the current Jupyter kernel\n",
    "import sys\n",
    "!{sys.executable} -m pip install psycopg2"
   ]
  },
  {
   "cell_type": "code",
   "execution_count": 1,
   "metadata": {},
   "outputs": [],
   "source": [
    "import pandas as pd\n",
    "import psycopg2"
   ]
  },
  {
   "cell_type": "code",
   "execution_count": null,
   "metadata": {},
   "outputs": [],
   "source": [
    "\n",
    "connection = psycopg2.connect(\n",
    "    host = 'YOUR_AWS_RDS_ENDPOINT',\n",
    "    port = 5432,\n",
    "    user = 'YOUR_USER_NAME',\n",
    "    password = 'YOUR_PASSWORD',\n",
    "    database='YOUR_DB_NAME'\n",
    "    )"
   ]
  },
  {
   "cell_type": "code",
   "execution_count": null,
   "metadata": {},
   "outputs": [],
   "source": [
    "#creating coursor object\n",
    "cursor=connection.cursor()"
   ]
  },
  {
   "cell_type": "code",
   "execution_count": null,
   "metadata": {},
   "outputs": [],
   "source": [
    "#creating tables \n",
    "cursor.execute(\"\"\"CREATE TABLE passengers(\n",
    "id SERIAL PRIMARY KEY,\n",
    "name text,\n",
    "sex text,\n",
    "age float,\n",
    "sibsp integer,\n",
    "parch integer)\"\"\")\n",
    "\n",
    "cursor.execute(\"\"\"CREATE TABLE survival(\n",
    "id SERIAL PRIMARY KEY,\n",
    "survived integer)\"\"\")\n",
    "\n",
    "cursor.execute(\"\"\"CREATE TABLE tripInfo(\n",
    "id SERIAL PRIMARY KEY,\n",
    "pclass integer,\n",
    "ticket text,\n",
    "fare float,\n",
    "cabin text,\n",
    "embarked text)\"\"\")\n",
    "\n",
    "connection.commit()"
   ]
  },
  {
   "cell_type": "code",
   "execution_count": null,
   "metadata": {},
   "outputs": [],
   "source": [
    "#Quering Information Shema table\n",
    "sql = \"\"\"\n",
    "SELECT \"table_name\",\"column_name\", \"data_type\", \"table_schema\"\n",
    "FROM INFORMATION_SCHEMA.COLUMNS\n",
    "WHERE \"table_schema\" = 'public'\n",
    "ORDER BY table_name  \n",
    "\"\"\"\n",
    "pd.read_sql(sql, con=connection)"
   ]
  },
  {
   "cell_type": "code",
   "execution_count": null,
   "metadata": {},
   "outputs": [],
   "source": [
    "# Copy data from csv files to tables:\n",
    "\n",
    "with open('passengers.csv', 'r') as row:\n",
    "    next(row)# Skip the header row.\n",
    "    cursor.copy_from(row, 'passengers', sep=',')\n",
    "    \n",
    "with open('survival.csv', 'r') as row:\n",
    "    next(row) \n",
    "    cursor.copy_from(row, 'survival', sep=',')\n",
    "\n",
    "with open('trip_info.csv', 'r') as row:\n",
    "    next(row)\n",
    "    cursor.copy_from(row, 'tripInfo', sep=',')\n",
    "    \n",
    "connection.commit()    "
   ]
  },
  {
   "cell_type": "code",
   "execution_count": null,
   "metadata": {},
   "outputs": [],
   "source": [
    "# Create a new Role gastudent\n",
    "cursor.execute(\"\"\"CREATE ROLE gastudent WITH LOGIN PASSWORD 'gastudent'\"\"\")\n",
    "#Grant different permissions for a new role\n",
    "cursor.execute(\"\"\"GRANT CONNECT ON DATABASE titanic TO gastudent\"\"\")\n",
    "cursor.execute(\"\"\"GRANT SELECT, UPDATE, INSERT ON passengers TO gastudent\"\"\")\n",
    "cursor.execute(\"\"\"GRANT SELECT, UPDATE, INSERT ON survival TO gastudent\"\"\")\n",
    "cursor.execute(\"\"\"GRANT SELECT, UPDATE, INSERT ON tripInfo TO gastudent\"\"\")\n",
    "\n",
    "connection.commit()"
   ]
  },
  {
   "cell_type": "code",
   "execution_count": null,
   "metadata": {},
   "outputs": [],
   "source": [
    "# simple query to interact with a remote DB.\n",
    "\n",
    "sql = \"\"\"\n",
    "SELECT pclass, AVG(survived)\n",
    "FROM (SELECT t.pclass, s.survived\n",
    "FROM tripInfo t\n",
    "INNER JOIN survival s ON t.id = s.id\n",
    ") AS x\n",
    "GROUP BY pclass\n",
    "\"\"\"\n",
    "\n",
    "pd.read_sql(sql, con=connection)"
   ]
  }
 ],
 "metadata": {
  "kernelspec": {
   "display_name": "Python 3",
   "language": "python",
   "name": "python3"
  },
  "language_info": {
   "codemirror_mode": {
    "name": "ipython",
    "version": 3
   },
   "file_extension": ".py",
   "mimetype": "text/x-python",
   "name": "python",
   "nbconvert_exporter": "python",
   "pygments_lexer": "ipython3",
   "version": "3.7.3"
  }
 },
 "nbformat": 4,
 "nbformat_minor": 2
}
